{
 "cells": [
  {
   "cell_type": "markdown",
   "metadata": {
    "slideshow": {
     "slide_type": "slide"
    }
   },
   "source": [
    "# Python Basics"
   ]
  },
  {
   "cell_type": "markdown",
   "metadata": {
    "slideshow": {
     "slide_type": "slide"
    }
   },
   "source": [
    "## Hello World"
   ]
  },
  {
   "cell_type": "code",
   "execution_count": 1,
   "metadata": {
    "slideshow": {
     "slide_type": "slide"
    }
   },
   "outputs": [
    {
     "name": "stdout",
     "output_type": "stream",
     "text": [
      "Hello World!\n"
     ]
    }
   ],
   "source": [
    "print(\"Hello World!\")"
   ]
  },
  {
   "cell_type": "markdown",
   "metadata": {
    "slideshow": {
     "slide_type": "slide"
    }
   },
   "source": [
    "## Whatever you do..\n",
    "\n",
    "Remember to ***always*** read the manual:\n",
    "https://docs.python.org/3/\n",
    "\n",
    "Also, you should go through this excellent tutorial here:\n",
    "https://docs.python.org/3/tutorial/"
   ]
  },
  {
   "cell_type": "markdown",
   "metadata": {
    "slideshow": {
     "slide_type": "slide"
    }
   },
   "source": [
    "### Types and Operators"
   ]
  },
  {
   "cell_type": "code",
   "execution_count": 38,
   "metadata": {
    "slideshow": {
     "slide_type": "-"
    }
   },
   "outputs": [
    {
     "data": {
      "text/plain": [
       "(1.3333333333333333, int, int, float)"
      ]
     },
     "execution_count": 38,
     "metadata": {},
     "output_type": "execute_result"
    }
   ],
   "source": [
    "4/3, type(4), type(3), type(4/3)"
   ]
  },
  {
   "cell_type": "code",
   "execution_count": 39,
   "metadata": {
    "slideshow": {
     "slide_type": "-"
    }
   },
   "outputs": [
    {
     "data": {
      "text/plain": [
       "(1.3333333333333333, int, float, float)"
      ]
     },
     "execution_count": 39,
     "metadata": {},
     "output_type": "execute_result"
    }
   ],
   "source": [
    "4/3.0, type(4), type(3.0), type(4/3.0)"
   ]
  },
  {
   "cell_type": "markdown",
   "metadata": {
    "slideshow": {
     "slide_type": "-"
    }
   },
   "source": [
    "Note that this is only for python 3.x and greater"
   ]
  },
  {
   "cell_type": "markdown",
   "metadata": {
    "slideshow": {
     "slide_type": "slide"
    }
   },
   "source": [
    "### Types and Operators\n",
    "Since python 2.x, the floor division operator was specifically introduced"
   ]
  },
  {
   "cell_type": "code",
   "execution_count": 4,
   "metadata": {
    "slideshow": {
     "slide_type": "-"
    }
   },
   "outputs": [
    {
     "data": {
      "text/plain": [
       "(1, int, 1.0, float)"
      ]
     },
     "execution_count": 4,
     "metadata": {},
     "output_type": "execute_result"
    }
   ],
   "source": [
    "4//3, type(4//3), 4.0//3.0, type(4.0//3.0)"
   ]
  },
  {
   "cell_type": "markdown",
   "metadata": {
    "slideshow": {
     "slide_type": "slide"
    }
   },
   "source": [
    "### Types and Operators\n",
    "Since we're talking about operators, let's run quickly through most of them"
   ]
  },
  {
   "cell_type": "markdown",
   "metadata": {
    "slideshow": {
     "slide_type": "slide"
    }
   },
   "source": [
    "Numeric"
   ]
  },
  {
   "cell_type": "code",
   "execution_count": 5,
   "metadata": {
    "slideshow": {
     "slide_type": "-"
    }
   },
   "outputs": [
    {
     "data": {
      "text/plain": [
       "(3, -1, 6, 2, 8)"
      ]
     },
     "execution_count": 5,
     "metadata": {},
     "output_type": "execute_result"
    }
   ],
   "source": [
    "1+2, 1-2, 2*3, 2%3, 2**3\n"
   ]
  },
  {
   "cell_type": "markdown",
   "metadata": {
    "slideshow": {
     "slide_type": "slide"
    }
   },
   "source": [
    "Logistic"
   ]
  },
  {
   "cell_type": "code",
   "execution_count": 6,
   "metadata": {
    "slideshow": {
     "slide_type": "-"
    }
   },
   "outputs": [
    {
     "data": {
      "text/plain": [
       "(True, False, False, True, True, True)"
      ]
     },
     "execution_count": 6,
     "metadata": {},
     "output_type": "execute_result"
    }
   ],
   "source": [
    "2 == 2, 2 != 2, 2 > 2, 2 < 3, 2 >= 2, 2 <= 3"
   ]
  },
  {
   "cell_type": "code",
   "execution_count": 40,
   "metadata": {},
   "outputs": [
    {
     "data": {
      "text/plain": [
       "bool"
      ]
     },
     "execution_count": 40,
     "metadata": {},
     "output_type": "execute_result"
    }
   ],
   "source": [
    "type(2==2)"
   ]
  },
  {
   "cell_type": "markdown",
   "metadata": {
    "slideshow": {
     "slide_type": "slide"
    }
   },
   "source": [
    "Assignment Operators"
   ]
  },
  {
   "cell_type": "code",
   "execution_count": 43,
   "metadata": {},
   "outputs": [
    {
     "data": {
      "text/plain": [
       "(3.1, float)"
      ]
     },
     "execution_count": 43,
     "metadata": {},
     "output_type": "execute_result"
    }
   ],
   "source": [
    "c = 1 + 2.1\n",
    "c, type(c)"
   ]
  },
  {
   "cell_type": "code",
   "execution_count": 42,
   "metadata": {},
   "outputs": [
    {
     "data": {
      "text/plain": [
       "int"
      ]
     },
     "execution_count": 42,
     "metadata": {},
     "output_type": "execute_result"
    }
   ],
   "source": [
    "c = 1\n",
    "type(c)"
   ]
  },
  {
   "cell_type": "markdown",
   "metadata": {
    "slideshow": {
     "slide_type": "slide"
    }
   },
   "source": [
    "Any numeric operator prior to ="
   ]
  },
  {
   "cell_type": "code",
   "execution_count": 44,
   "metadata": {},
   "outputs": [
    {
     "data": {
      "text/plain": [
       "9.610000000000001"
      ]
     },
     "execution_count": 44,
     "metadata": {},
     "output_type": "execute_result"
    }
   ],
   "source": [
    "c **= 2\n",
    "c"
   ]
  },
  {
   "cell_type": "markdown",
   "metadata": {
    "slideshow": {
     "slide_type": "slide"
    }
   },
   "source": [
    "### And membership operators"
   ]
  },
  {
   "cell_type": "code",
   "execution_count": 45,
   "metadata": {},
   "outputs": [
    {
     "data": {
      "text/plain": [
       "(True, False, False)"
      ]
     },
     "execution_count": 45,
     "metadata": {},
     "output_type": "execute_result"
    }
   ],
   "source": [
    "2 in [1, 2, 3, \"something\"], 2.1 in [1,2,3], 3 not in [1,2,3]"
   ]
  },
  {
   "cell_type": "code",
   "execution_count": 46,
   "metadata": {
    "slideshow": {
     "slide_type": "-"
    }
   },
   "outputs": [
    {
     "data": {
      "text/plain": [
       "True"
      ]
     },
     "execution_count": 46,
     "metadata": {},
     "output_type": "execute_result"
    }
   ],
   "source": [
    "[1,2,3].__contains__(2)"
   ]
  },
  {
   "cell_type": "markdown",
   "metadata": {
    "slideshow": {
     "slide_type": "slide"
    }
   },
   "source": [
    "### Types and Operators\n",
    "* We see that some are defined for more complex objects (i.e. in, not in)\n",
    "    * What others are there?"
   ]
  },
  {
   "cell_type": "code",
   "execution_count": 11,
   "metadata": {},
   "outputs": [
    {
     "data": {
      "text/plain": [
       "[1, 2, 5, 2]"
      ]
     },
     "execution_count": 11,
     "metadata": {},
     "output_type": "execute_result"
    }
   ],
   "source": [
    "[1, 2] + [5,2]"
   ]
  },
  {
   "cell_type": "code",
   "execution_count": 47,
   "metadata": {},
   "outputs": [
    {
     "data": {
      "text/plain": [
       "[[1, 2], [3, 4], 5, 6, 'alpha', 'beta']"
      ]
     },
     "execution_count": 47,
     "metadata": {},
     "output_type": "execute_result"
    }
   ],
   "source": [
    "[[1,2], [3,4]] + [5,6] + ['alpha', 'beta']"
   ]
  },
  {
   "cell_type": "code",
   "execution_count": 48,
   "metadata": {},
   "outputs": [
    {
     "data": {
      "text/plain": [
       "(1, 3, [3, 4], [1, 2, 3], [1, 2, 3], [])"
      ]
     },
     "execution_count": 48,
     "metadata": {},
     "output_type": "execute_result"
    }
   ],
   "source": [
    "a = [1,2,3,4]\n",
    "\n",
    "a[0], a[-2], a[2:7], a[0:-1], a[:-1], a[:-4]"
   ]
  },
  {
   "cell_type": "markdown",
   "metadata": {
    "slideshow": {
     "slide_type": "slide"
    }
   },
   "source": [
    "You can access all operators via the ***operator*** interface"
   ]
  },
  {
   "cell_type": "code",
   "execution_count": 52,
   "metadata": {},
   "outputs": [
    {
     "data": {
      "text/plain": [
       "3"
      ]
     },
     "execution_count": 52,
     "metadata": {},
     "output_type": "execute_result"
    }
   ],
   "source": [
    "import operator\n",
    "\n",
    "operator.add(1,2)\n",
    "operator.countOf([1, 2, 2, 2, 3, 0], 2)"
   ]
  },
  {
   "cell_type": "markdown",
   "metadata": {},
   "source": [
    "You can find all the operators and their functions in the manual:\n",
    "https://docs.python.org/3/library/operator.html"
   ]
  },
  {
   "cell_type": "markdown",
   "metadata": {
    "slideshow": {
     "slide_type": "slide"
    }
   },
   "source": [
    "## Functions"
   ]
  },
  {
   "cell_type": "code",
   "execution_count": 57,
   "metadata": {},
   "outputs": [
    {
     "data": {
      "text/plain": [
       "(2.23606797749979, 5.0)"
      ]
     },
     "execution_count": 57,
     "metadata": {},
     "output_type": "execute_result"
    }
   ],
   "source": [
    "def length(x,y):\n",
    "    return (x**2 + y**2)**0.5\n",
    "     \n",
    "length(1,2), length(3,4)"
   ]
  },
  {
   "cell_type": "code",
   "execution_count": 58,
   "metadata": {},
   "outputs": [
    {
     "data": {
      "text/plain": [
       "(2.23606797749979, 5.0)"
      ]
     },
     "execution_count": 58,
     "metadata": {},
     "output_type": "execute_result"
    }
   ],
   "source": [
    "def length_multiline(x,y):\n",
    "    return (x**2 + y**2)\\\n",
    "        **\\\n",
    "        0.5\n",
    "     \n",
    "length(1,2), length(3,4)"
   ]
  },
  {
   "cell_type": "code",
   "execution_count": 60,
   "metadata": {},
   "outputs": [
    {
     "data": {
      "text/plain": [
       "3.605551275463989"
      ]
     },
     "execution_count": 60,
     "metadata": {},
     "output_type": "execute_result"
    }
   ],
   "source": [
    "def taking_a_func_as_a_param(some_f, x, y):\n",
    "    return some_f(x,y)\n",
    "\n",
    "taking_a_func_as_a_param(length, 3, 2)"
   ]
  },
  {
   "cell_type": "markdown",
   "metadata": {
    "slideshow": {
     "slide_type": "slide"
    }
   },
   "source": [
    "## Functions - Lambdas\n",
    "We can also have anonymous functions (functions without a name), popularly known as ***lambdas***."
   ]
  },
  {
   "cell_type": "code",
   "execution_count": 61,
   "metadata": {},
   "outputs": [
    {
     "data": {
      "text/plain": [
       "5.0"
      ]
     },
     "execution_count": 61,
     "metadata": {},
     "output_type": "execute_result"
    }
   ],
   "source": [
    "g = lambda x,y: (x**2 + y**2)**0.5\n",
    "\n",
    "g(3,4)"
   ]
  },
  {
   "cell_type": "markdown",
   "metadata": {
    "slideshow": {
     "slide_type": "slide"
    }
   },
   "source": [
    "## Functions - Map, Reduce, Filter\n",
    "\n",
    "* Map: Takes every instance in a set and applies a function to it, mapping that instance to the result.\n",
    "* Reduce: Takes instances in order, starting with the first two. It applies the function you give it on the two and uses the result with the next instance and so on.\n",
    "* Filter: Takes a sequence and removes the elements that return a False result to the application of a function (also known as predicate).\n"
   ]
  },
  {
   "cell_type": "code",
   "execution_count": 71,
   "metadata": {},
   "outputs": [
    {
     "data": {
      "text/plain": [
       "[5.0,\n",
       " 17.029386365926403,\n",
       " 12.165525060596439,\n",
       " 11.40175425099138,\n",
       " 10.770329614269007]"
      ]
     },
     "execution_count": 71,
     "metadata": {},
     "output_type": "execute_result"
    }
   ],
   "source": [
    "a = [3,1,2,3,4]\n",
    "b = [4,17,12,11,10]\n",
    "list( map(g, a, b) )"
   ]
  },
  {
   "cell_type": "code",
   "execution_count": 65,
   "metadata": {},
   "outputs": [
    {
     "data": {
      "text/plain": [
       "[1, 9, 25, 16]"
      ]
     },
     "execution_count": 65,
     "metadata": {},
     "output_type": "execute_result"
    }
   ],
   "source": [
    "someList = [1,3,5,4]\n",
    "list(map(lambda x:x**2, someList))"
   ]
  },
  {
   "cell_type": "code",
   "execution_count": 68,
   "metadata": {},
   "outputs": [],
   "source": [
    "c = map(lambda x:x**2, someList)"
   ]
  },
  {
   "cell_type": "code",
   "execution_count": 69,
   "metadata": {},
   "outputs": [
    {
     "data": {
      "text/plain": [
       "map"
      ]
     },
     "execution_count": 69,
     "metadata": {},
     "output_type": "execute_result"
    }
   ],
   "source": [
    "type(c)"
   ]
  },
  {
   "cell_type": "code",
   "execution_count": 64,
   "metadata": {},
   "outputs": [
    {
     "data": {
      "text/plain": [
       "[1, 3, 5, 4]"
      ]
     },
     "execution_count": 64,
     "metadata": {},
     "output_type": "execute_result"
    }
   ],
   "source": [
    "someList"
   ]
  },
  {
   "cell_type": "markdown",
   "metadata": {
    "slideshow": {
     "slide_type": "slide"
    }
   },
   "source": [
    "Alternatively, we can use list comprehension to write map operations more explicitely:\n"
   ]
  },
  {
   "cell_type": "code",
   "execution_count": 70,
   "metadata": {},
   "outputs": [
    {
     "data": {
      "text/plain": [
       "[1, 4, 9, 16]"
      ]
     },
     "execution_count": 70,
     "metadata": {},
     "output_type": "execute_result"
    }
   ],
   "source": [
    "def raise_to_sqr(x):\n",
    "    return x**2\n",
    "\n",
    "c = [1,2,3,4]\n",
    "\n",
    "[raise_to_sqr(x) for x in c]"
   ]
  },
  {
   "cell_type": "code",
   "execution_count": 72,
   "metadata": {},
   "outputs": [
    {
     "data": {
      "text/plain": [
       "[5.0,\n",
       " 17.029386365926403,\n",
       " 12.165525060596439,\n",
       " 11.40175425099138,\n",
       " 10.770329614269007]"
      ]
     },
     "execution_count": 72,
     "metadata": {},
     "output_type": "execute_result"
    }
   ],
   "source": [
    "#The previous map operation could be written as:\n",
    "[g(x,y) for x,y in zip(a,b)]"
   ]
  },
  {
   "cell_type": "code",
   "execution_count": 73,
   "metadata": {},
   "outputs": [
    {
     "data": {
      "text/plain": [
       "[17.029386365926403, 12.165525060596439]"
      ]
     },
     "execution_count": 73,
     "metadata": {},
     "output_type": "execute_result"
    }
   ],
   "source": [
    "list(filter( lambda x: x > 12, map(g, a, b) ))"
   ]
  },
  {
   "cell_type": "code",
   "execution_count": 30,
   "metadata": {},
   "outputs": [
    {
     "data": {
      "text/plain": [
       "25"
      ]
     },
     "execution_count": 30,
     "metadata": {},
     "output_type": "execute_result"
    }
   ],
   "source": [
    "from functools import reduce\n",
    "\n",
    "reduce(lambda x, y: x + y, [1,5, 7, 9, 3])"
   ]
  },
  {
   "cell_type": "code",
   "execution_count": 75,
   "metadata": {},
   "outputs": [
    {
     "data": {
      "text/plain": [
       "(24, 7)"
      ]
     },
     "execution_count": 75,
     "metadata": {},
     "output_type": "execute_result"
    }
   ],
   "source": [
    "def prod(x,y):\n",
    "    return x*y\n",
    "\n",
    "reduce(prod, [1,2,3,4]), reduce(max, [1,5,7,1])"
   ]
  },
  {
   "cell_type": "markdown",
   "metadata": {
    "collapsed": true,
    "slideshow": {
     "slide_type": "slide"
    }
   },
   "source": [
    "## Classes\n",
    "\n",
    "Python is object-oriented, meaning that there is a class construct (with inheritence and so on). "
   ]
  },
  {
   "cell_type": "code",
   "execution_count": 32,
   "metadata": {
    "slideshow": {
     "slide_type": "slide"
    }
   },
   "outputs": [],
   "source": [
    "class dog:\n",
    "    kind = 'canine' #this will be shared among all instances of this class\n",
    "        \n",
    "    def __init__(self):\n",
    "        self.tricks = []\n",
    "        \n",
    "    def add_trick(self, new_trick):\n",
    "        self.tricks.append(new_trick)\n",
    "        \n"
   ]
  },
  {
   "cell_type": "code",
   "execution_count": 76,
   "metadata": {
    "slideshow": {
     "slide_type": "-"
    }
   },
   "outputs": [
    {
     "name": "stdout",
     "output_type": "stream",
     "text": [
      "['eat']\n",
      "['bark']\n"
     ]
    }
   ],
   "source": [
    "lab = dog()\n",
    "german_shephard = dog()\n",
    "\n",
    "lab.add_trick('eat')\n",
    "german_shephard.add_trick('bark')\n",
    "\n",
    "print(lab.tricks)\n",
    "print(german_shephard.tricks)"
   ]
  },
  {
   "cell_type": "code",
   "execution_count": 77,
   "metadata": {
    "slideshow": {
     "slide_type": "slide"
    }
   },
   "outputs": [],
   "source": [
    "class cat:\n",
    "    tricks = []\n",
    "    \n",
    "    def __init__(self, name):\n",
    "        self.name = name\n",
    "        \n",
    "    def add_trick(self, new_trick):\n",
    "        self.tricks.append(new_trick)\n",
    "    "
   ]
  },
  {
   "cell_type": "code",
   "execution_count": 35,
   "metadata": {},
   "outputs": [
    {
     "name": "stdout",
     "output_type": "stream",
     "text": [
      "['climb', 'hunt birds']\n",
      "['climb', 'hunt birds']\n"
     ]
    }
   ],
   "source": [
    "birmanese = cat('cat_0')\n",
    "egyptian = cat('cat_1')\n",
    "\n",
    "birmanese.add_trick('climb')\n",
    "egyptian.add_trick('hunt birds')\n",
    "\n",
    "print(birmanese.tricks)\n",
    "print(egyptian.tricks)"
   ]
  },
  {
   "cell_type": "markdown",
   "metadata": {
    "slideshow": {
     "slide_type": "slide"
    }
   },
   "source": [
    "## Reading a File\n"
   ]
  },
  {
   "cell_type": "code",
   "execution_count": 31,
   "metadata": {},
   "outputs": [
    {
     "name": "stdout",
     "output_type": "stream",
     "text": [
      "[[10.0, 15.0, 20.0, 30.0], [20.0, 25.0, 50.0, 80.0], [50.0, 54.0, 55.0, 70.0], [30.0, 35.0, 60.0, 13.0], [40.0, 45.0, 70.0, 30.0], [60.0, 66.0, 12.0, 17.0]]\n",
      "on the 1  line sum is: 75.0\n",
      "on the 2  line sum is: 175.0\n",
      "on the 3  line sum is: 229.0\n",
      "on the 4  line sum is: 138.0\n",
      "on the 5  line sum is: 185.0\n",
      "on the 6  line sum is: 155.0\n",
      " the list is: [10.0, 15.0, 20.0, 30.0, 20.0, 25.0, 50.0, 80.0, 50.0, 54.0, 55.0, 70.0, 30.0, 35.0, 60.0, 13.0, 40.0, 45.0, 70.0, 30.0, 60.0, 66.0, 12.0, 17.0]\n",
      "how many are larger than 30.1: 13  and the sum of all is: 957.0\n",
      " there are  0  numbers smaller than  1\n",
      " there are  0  numbers smaller than  2\n",
      " there are  0  numbers smaller than  3\n",
      " there are  0  numbers smaller than  4\n",
      " there are  0  numbers smaller than  5\n",
      " there are  0  numbers smaller than  6\n",
      " there are  0  numbers smaller than  7\n",
      " there are  0  numbers smaller than  8\n",
      " there are  0  numbers smaller than  9\n",
      " there are  0  numbers smaller than  10\n",
      " there are  1  numbers smaller than  11\n",
      " there are  1  numbers smaller than  12\n",
      " there are  2  numbers smaller than  13\n",
      " there are  3  numbers smaller than  14\n",
      " there are  3  numbers smaller than  15\n",
      " there are  4  numbers smaller than  16\n",
      " there are  4  numbers smaller than  17\n",
      " there are  5  numbers smaller than  18\n",
      " there are  5  numbers smaller than  19\n",
      " there are  5  numbers smaller than  20\n",
      " there are  7  numbers smaller than  21\n",
      " there are  7  numbers smaller than  22\n",
      " there are  7  numbers smaller than  23\n",
      " there are  7  numbers smaller than  24\n",
      " there are  7  numbers smaller than  25\n",
      " there are  8  numbers smaller than  26\n",
      " there are  8  numbers smaller than  27\n",
      " there are  8  numbers smaller than  28\n",
      " there are  8  numbers smaller than  29\n",
      " there are  8  numbers smaller than  30\n",
      " there are  11  numbers smaller than  31\n",
      " there are  11  numbers smaller than  32\n",
      " there are  11  numbers smaller than  33\n",
      " there are  11  numbers smaller than  34\n",
      " there are  11  numbers smaller than  35\n",
      " there are  12  numbers smaller than  36\n",
      " there are  12  numbers smaller than  37\n",
      " there are  12  numbers smaller than  38\n",
      " there are  12  numbers smaller than  39\n",
      " there are  12  numbers smaller than  40\n",
      " there are  13  numbers smaller than  41\n",
      " there are  13  numbers smaller than  42\n",
      " there are  13  numbers smaller than  43\n",
      " there are  13  numbers smaller than  44\n",
      " there are  13  numbers smaller than  45\n",
      " there are  14  numbers smaller than  46\n",
      " there are  14  numbers smaller than  47\n",
      " there are  14  numbers smaller than  48\n",
      " there are  14  numbers smaller than  49\n",
      " there are  14  numbers smaller than  50\n",
      " there are  16  numbers smaller than  51\n",
      " there are  16  numbers smaller than  52\n",
      " there are  16  numbers smaller than  53\n",
      " there are  16  numbers smaller than  54\n",
      " there are  17  numbers smaller than  55\n",
      " there are  18  numbers smaller than  56\n",
      " there are  18  numbers smaller than  57\n",
      " there are  18  numbers smaller than  58\n",
      " there are  18  numbers smaller than  59\n",
      " there are  18  numbers smaller than  60\n",
      " there are  20  numbers smaller than  61\n",
      " there are  20  numbers smaller than  62\n",
      " there are  20  numbers smaller than  63\n",
      " there are  20  numbers smaller than  64\n",
      " there are  20  numbers smaller than  65\n",
      " there are  20  numbers smaller than  66\n",
      " there are  21  numbers smaller than  67\n",
      " there are  21  numbers smaller than  68\n",
      " there are  21  numbers smaller than  69\n",
      " there are  21  numbers smaller than  70\n",
      " there are  23  numbers smaller than  71\n",
      " there are  23  numbers smaller than  72\n",
      " there are  23  numbers smaller than  73\n",
      " there are  23  numbers smaller than  74\n",
      " there are  23  numbers smaller than  75\n",
      " there are  23  numbers smaller than  76\n",
      " there are  23  numbers smaller than  77\n",
      " there are  23  numbers smaller than  78\n",
      " there are  23  numbers smaller than  79\n",
      " there are  23  numbers smaller than  80\n",
      " there are  24  numbers smaller than  81\n",
      " there are  24  numbers smaller than  82\n",
      " there are  24  numbers smaller than  83\n",
      " there are  24  numbers smaller than  84\n",
      " there are  24  numbers smaller than  85\n",
      " there are  24  numbers smaller than  86\n",
      " there are  24  numbers smaller than  87\n",
      " there are  24  numbers smaller than  88\n",
      " there are  24  numbers smaller than  89\n",
      " there are  24  numbers smaller than  90\n",
      " there are  24  numbers smaller than  91\n",
      " there are  24  numbers smaller than  92\n",
      " there are  24  numbers smaller than  93\n",
      " there are  24  numbers smaller than  94\n",
      " there are  24  numbers smaller than  95\n",
      " there are  24  numbers smaller than  96\n",
      " there are  24  numbers smaller than  97\n",
      " there are  24  numbers smaller than  98\n",
      " there are  24  numbers smaller than  99\n",
      " there are  24  numbers smaller than  100\n"
     ]
    }
   ],
   "source": [
    "f = open('numbers.txt','r')\n",
    "\n",
    "def process_line(line):\n",
    "    return list(map(float,   str.split(line[:-1], ',')   ))\n",
    "    \n",
    "nums = [process_line(line) for line in f]\n",
    "print(nums)\n",
    "\n",
    "\n",
    "\n",
    "f.close()\n",
    "for elem1 in nums:\n",
    "    s1=0\n",
    "    for num1 in elem1:\n",
    "        s1=s1+num1\n",
    "    print('on the',nums.index(elem1)+1,' line sum is:',s1)\n",
    "mlist=[num for elem in nums for num in elem]\n",
    "print(' the list is:',mlist)\n",
    "i,s=0,0\n",
    "for w in mlist:\n",
    "    s=s+w\n",
    "    if w > 30.1:\n",
    "        i=i+1\n",
    "print('how many are larger than 30.1:',i,' and the sum of all is:',s)\n",
    "\n",
    "for x in range(1,101):\n",
    "    s2=0\n",
    "    for eachnumber in mlist:\n",
    "        if eachnumber<x:\n",
    "            s2+=1\n",
    "    print(' there are ',s2,' numbers smaller than ', x )\n",
    "   \n",
    "        \n"
   ]
  },
  {
   "cell_type": "code",
   "execution_count": null,
   "metadata": {
    "collapsed": true
   },
   "outputs": [],
   "source": []
  }
 ],
 "metadata": {
  "celltoolbar": "Slideshow",
  "kernelspec": {
   "display_name": "Python 3",
   "language": "python",
   "name": "python3"
  },
  "language_info": {
   "codemirror_mode": {
    "name": "ipython",
    "version": 3
   },
   "file_extension": ".py",
   "mimetype": "text/x-python",
   "name": "python",
   "nbconvert_exporter": "python",
   "pygments_lexer": "ipython3",
   "version": "3.7.0"
  }
 },
 "nbformat": 4,
 "nbformat_minor": 2
}
